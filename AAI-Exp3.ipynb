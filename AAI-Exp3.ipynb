{
 "cells": [
  {
   "cell_type": "code",
   "execution_count": 1,
   "id": "176320b2",
   "metadata": {},
   "outputs": [
    {
     "name": "stdout",
     "output_type": "stream",
     "text": [
      "The probability of the observed sequence is:  0.018906881625\n",
      "The most likely sequence of weather states is:  ['sunny', 'sunny', 'sunny', 'rainy', 'rainy', 'sunny']\n"
     ]
    }
   ],
   "source": [
    "import numpy as np\n",
    "transition_matrix=np.array([[0.7,0.3],\n",
    "                            [0.4,0.6]])\n",
    "emission_matrix=np.array([[0.1,0.9],\n",
    "                          [0.8,0.2]])\n",
    "initial_probabilities=np.array([0.5,0.5])\n",
    "observed_sequence=np.array([1,1,1,0,0,1])\n",
    "alpha=np.zeros((len(observed_sequence),len(initial_probabilities)))\n",
    "alpha[0,:]=initial_probabilities*emission_matrix[:,observed_sequence[0]]\n",
    "     \n",
    "\n",
    "for t in range(1,len(observed_sequence)):\n",
    "  for j in range(len(initial_probabilities)):\n",
    "    alpha[t,j]=emission_matrix[j,observed_sequence[t]]*np.sum(alpha[t-1,:]*transition_matrix[:,j])\n",
    "probability=np.sum(alpha[-1,:])\n",
    "print(\"The probability of the observed sequence is: \",probability)\n",
    "\n",
    "most_likely_sequence=[]\n",
    "for t in range(len(observed_sequence)):\n",
    "  if alpha[t,0] > alpha[t,1]:\n",
    "    most_likely_sequence.append(\"sunny\")\n",
    "  else:\n",
    "    most_likely_sequence.append(\"rainy\")\n",
    "\n",
    "print(\"The most likely sequence of weather states is: \",most_likely_sequence)"
   ]
  },
  {
   "cell_type": "code",
   "execution_count": null,
   "id": "9c3b6cdf",
   "metadata": {},
   "outputs": [],
   "source": []
  }
 ],
 "metadata": {
  "kernelspec": {
   "display_name": "Python 3 (ipykernel)",
   "language": "python",
   "name": "python3"
  },
  "language_info": {
   "codemirror_mode": {
    "name": "ipython",
    "version": 3
   },
   "file_extension": ".py",
   "mimetype": "text/x-python",
   "name": "python",
   "nbconvert_exporter": "python",
   "pygments_lexer": "ipython3",
   "version": "3.10.9"
  }
 },
 "nbformat": 4,
 "nbformat_minor": 5
}
